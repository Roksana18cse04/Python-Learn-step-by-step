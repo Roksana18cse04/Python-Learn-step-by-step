{
  "nbformat": 4,
  "nbformat_minor": 0,
  "metadata": {
    "colab": {
      "provenance": [],
      "authorship_tag": "ABX9TyNHbMJLRUACFsSPfKWQVTjd",
      "include_colab_link": true
    },
    "kernelspec": {
      "name": "python3",
      "display_name": "Python 3"
    },
    "language_info": {
      "name": "python"
    }
  },
  "cells": [
    {
      "cell_type": "markdown",
      "metadata": {
        "id": "view-in-github",
        "colab_type": "text"
      },
      "source": [
        "<a href=\"https://colab.research.google.com/github/Roksana18cse04/Python-Learn-step-by-step/blob/main/function_Modules.ipynb\" target=\"_parent\"><img src=\"https://colab.research.google.com/assets/colab-badge.svg\" alt=\"Open In Colab\"/></a>"
      ]
    },
    {
      "cell_type": "markdown",
      "source": [
        "## Function and Module Details\n",
        "\n"
      ],
      "metadata": {
        "id": "DNtiSdP3xn5t"
      }
    },
    {
      "cell_type": "code",
      "execution_count": 1,
      "metadata": {
        "colab": {
          "base_uri": "https://localhost:8080/"
        },
        "id": "8HK7DNP1xm4n",
        "outputId": "33d180e0-367c-4e95-8097-e90a402cf481"
      },
      "outputs": [
        {
          "output_type": "execute_result",
          "data": {
            "text/plain": [
              "3"
            ]
          },
          "metadata": {},
          "execution_count": 1
        }
      ],
      "source": [
        "# Function Define\n",
        "def add(a,b):   # Function Define\n",
        "  return a+b\n",
        "\n",
        "add(1,2)   # Function caling"
      ]
    },
    {
      "cell_type": "markdown",
      "source": [
        "Fibonacci seriese in function define and calling"
      ],
      "metadata": {
        "id": "Dwz2DZm0yCl_"
      }
    },
    {
      "cell_type": "code",
      "source": [
        "def fib(n):\n",
        "  a,b=0,1\n",
        "  while a<n:\n",
        "    print(a,end=' ')\n",
        "    a,b=b,a+b\n",
        "fib(11)"
      ],
      "metadata": {
        "colab": {
          "base_uri": "https://localhost:8080/"
        },
        "id": "GE31P5GjyBvm",
        "outputId": "72dec3ae-85c0-4d42-c8c5-ee718e2809b7"
      },
      "execution_count": 4,
      "outputs": [
        {
          "output_type": "stream",
          "name": "stdout",
          "text": [
            "0 1 1 2 3 5 8 "
          ]
        }
      ]
    },
    {
      "cell_type": "code",
      "source": [
        "# Arbitrary Arguments\n",
        "def sum_all(*numbers):\n",
        "    return sum(numbers)\n",
        "\n",
        "print(sum_all(1, 2, 3, 4))"
      ],
      "metadata": {
        "colab": {
          "base_uri": "https://localhost:8080/"
        },
        "id": "ABDsodQczUHw",
        "outputId": "f799f205-8ea3-48f1-86d7-f8f30028b6d6"
      },
      "execution_count": 5,
      "outputs": [
        {
          "output_type": "stream",
          "name": "stdout",
          "text": [
            "10\n"
          ]
        }
      ]
    },
    {
      "cell_type": "markdown",
      "source": [
        "Scope and Lifetime of Variables:"
      ],
      "metadata": {
        "id": "_2mwtsQRze8e"
      }
    },
    {
      "cell_type": "code",
      "source": [
        "def outer_function():\n",
        "    x = \"local\"\n",
        "    print(x)\n",
        "\n",
        "    def inner_function():\n",
        "        nonlocal x\n",
        "        x = \"nonlocal\"\n",
        "        print(\"Inner:\", x)  # Output: Inner: nonlocal\n",
        "\n",
        "    inner_function()\n",
        "    print(\"Outer:\", x)  # Output: Outer: nonlocal\n",
        "\n",
        "outer_function()\n"
      ],
      "metadata": {
        "colab": {
          "base_uri": "https://localhost:8080/"
        },
        "id": "v95Vn3Q-zd5-",
        "outputId": "9e337a48-2de8-4da7-a7bd-0f9d95d04f96"
      },
      "execution_count": 9,
      "outputs": [
        {
          "output_type": "stream",
          "name": "stdout",
          "text": [
            "local\n",
            "Inner: nonlocal\n",
            "Outer: nonlocal\n"
          ]
        }
      ]
    },
    {
      "cell_type": "markdown",
      "source": [
        "Modules\n",
        "\n",
        "- Importing modules.\n",
        "- Creating your own modules.\n",
        "- Using standard library modules.\n",
        "- Packages and the __init__.py file."
      ],
      "metadata": {
        "id": "QBAgHf751QlL"
      }
    },
    {
      "cell_type": "code",
      "source": [
        "import math\n",
        "print(math.sqrt(16))\n",
        "from math import sqrt\n",
        "print(sqrt(16))\n",
        "import math as m\n",
        "print(m.sqrt(16))"
      ],
      "metadata": {
        "colab": {
          "base_uri": "https://localhost:8080/"
        },
        "id": "rd30bmB61KwE",
        "outputId": "74c7435b-b0bf-439d-f07d-472484a190de"
      },
      "execution_count": 11,
      "outputs": [
        {
          "output_type": "stream",
          "name": "stdout",
          "text": [
            "4.0\n",
            "4.0\n",
            "4.0\n"
          ]
        }
      ]
    },
    {
      "cell_type": "code",
      "source": [],
      "metadata": {
        "id": "NuZAr5g61dNw"
      },
      "execution_count": null,
      "outputs": []
    }
  ]
}