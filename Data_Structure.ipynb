{
  "nbformat": 4,
  "nbformat_minor": 0,
  "metadata": {
    "colab": {
      "provenance": [],
      "authorship_tag": "ABX9TyN39Cx2HPJlHhPEYFN53zOo",
      "include_colab_link": true
    },
    "kernelspec": {
      "name": "python3",
      "display_name": "Python 3"
    },
    "language_info": {
      "name": "python"
    }
  },
  "cells": [
    {
      "cell_type": "markdown",
      "metadata": {
        "id": "view-in-github",
        "colab_type": "text"
      },
      "source": [
        "<a href=\"https://colab.research.google.com/github/Roksana18cse04/Python-Learn-step-by-step/blob/main/Data_Structure.ipynb\" target=\"_parent\"><img src=\"https://colab.research.google.com/assets/colab-badge.svg\" alt=\"Open In Colab\"/></a>"
      ]
    },
    {
      "cell_type": "markdown",
      "source": [
        "Data structures are fundamental to organizing and storing data in a way that facilitates efficient access and modification. Python provides several built-in data structures, each with its own strengths and use cases. Here’s an overview of the most commonly used data structures in Python:\n",
        "\n",
        "##**Built-in Data Structures bold text**\n",
        "- Lists\n",
        "- Tuples\n",
        "- Sets\n",
        "- Dictionaries\n"
      ],
      "metadata": {
        "id": "xD6UlcHE3YAJ"
      }
    },
    {
      "cell_type": "code",
      "execution_count": null,
      "metadata": {
        "colab": {
          "base_uri": "https://localhost:8080/"
        },
        "id": "VMh5fxKo3SVN",
        "outputId": "9b18d2d0-5b0a-4a50-be72-16b75f06ec6c"
      },
      "outputs": [
        {
          "output_type": "stream",
          "name": "stdout",
          "text": [
            "<class 'list'>\n",
            "5\n",
            "5\n",
            "[1, 3, 5, 6, 7, 8, 7]\n",
            "[1, 3, 9, 5, 6, 7, 8, 7]\n",
            "[1, 3, 5, 6, 7, 8, 7]\n",
            "[1, 3, 5, 6, 7, 8]\n"
          ]
        },
        {
          "output_type": "execute_result",
          "data": {
            "text/plain": [
              "8"
            ]
          },
          "metadata": {},
          "execution_count": 37
        }
      ],
      "source": [
        "# List Data Structure\n",
        "lis=[1,3,5,6,7]\n",
        "print(type(lis))\n",
        "print(len(lis))\n",
        "print(lis[2])\n",
        "lis.append(8)\n",
        "lis.append(7)  # double value allowed\n",
        "print(lis)\n",
        "lis.insert(2,9)  # her 2 is index number and 9 is data for list\n",
        "print(lis)\n",
        "lis.remove(9)\n",
        "print(lis)\n",
        "lis.pop()  # last index pop\n",
        "print(lis)\n",
        "lis[-1]"
      ]
    },
    {
      "cell_type": "code",
      "source": [
        "# creating list\n",
        "fruits=[\"apple\",\"banana\",\"cherry\"]\n",
        "print(fruits)\n",
        "# modify list\n",
        "fruits[0]=\"mango\"\n",
        "print(fruits)\n",
        "#adding list\n",
        "fruits[2]=\"orange\"\n",
        "print(fruits)\n",
        "#list.clear(fruits)\n",
        "#print(fruits)"
      ],
      "metadata": {
        "colab": {
          "base_uri": "https://localhost:8080/"
        },
        "id": "0KoTdAfY4HbS",
        "outputId": "f9db9164-e5e2-47ec-d958-cd8b1d2ec181"
      },
      "execution_count": null,
      "outputs": [
        {
          "output_type": "stream",
          "name": "stdout",
          "text": [
            "['apple', 'banana', 'cherry']\n",
            "['mango', 'banana', 'cherry']\n",
            "['mango', 'banana', 'orange']\n"
          ]
        }
      ]
    },
    {
      "cell_type": "code",
      "source": [
        "lis.reverse()\n",
        "print(lis)"
      ],
      "metadata": {
        "colab": {
          "base_uri": "https://localhost:8080/"
        },
        "id": "fy8URG675eqN",
        "outputId": "77fbae6c-da00-4383-b085-c6fbfa002713"
      },
      "execution_count": null,
      "outputs": [
        {
          "output_type": "stream",
          "name": "stdout",
          "text": [
            "[7, 6, 5, 3, 1]\n"
          ]
        }
      ]
    },
    {
      "cell_type": "code",
      "source": [
        "fruits.sort()\n",
        "print(fruits)"
      ],
      "metadata": {
        "colab": {
          "base_uri": "https://localhost:8080/"
        },
        "id": "n7eoyfxe5wcq",
        "outputId": "a8957680-cb73-4811-e6f6-fc29dd1a3477"
      },
      "execution_count": null,
      "outputs": [
        {
          "output_type": "stream",
          "name": "stdout",
          "text": [
            "['banana', 'mango', 'orange']\n"
          ]
        }
      ]
    },
    {
      "cell_type": "code",
      "source": [
        "from collections import deque\n",
        "queue = deque([\"Eric\", \"John\", \"Michael\"])\n",
        "queue.append(\"Terry\")           # Terry arrives\n",
        "queue.append(\"Graham\")          # Graham arrives\n",
        "queue.popleft()                 # The first to arrive now leaves\n",
        "\n",
        "queue.popleft()                 # The second to arrive now leaves\n",
        "\n",
        "queue                           # Remaining queue in order of arrival\n"
      ],
      "metadata": {
        "colab": {
          "base_uri": "https://localhost:8080/"
        },
        "id": "GQYIlaFD5964",
        "outputId": "19329618-5a0c-48fb-ca6c-24884241166e"
      },
      "execution_count": null,
      "outputs": [
        {
          "output_type": "execute_result",
          "data": {
            "text/plain": [
              "deque(['Michael', 'Terry', 'Graham'])"
            ]
          },
          "metadata": {},
          "execution_count": 19
        }
      ]
    },
    {
      "cell_type": "code",
      "source": [
        "#list compherission\n",
        "squares = []\n",
        "for x in range(10):\n",
        "    squares.append(x**2)\n",
        "squares"
      ],
      "metadata": {
        "colab": {
          "base_uri": "https://localhost:8080/"
        },
        "id": "KrcuV_Zu6NsS",
        "outputId": "1a36d93d-debc-417f-fbb5-e481952463bb"
      },
      "execution_count": null,
      "outputs": [
        {
          "output_type": "execute_result",
          "data": {
            "text/plain": [
              "[0, 1, 4, 9, 16, 25, 36, 49, 64, 81]"
            ]
          },
          "metadata": {},
          "execution_count": 20
        }
      ]
    },
    {
      "cell_type": "markdown",
      "source": [
        "Tupples"
      ],
      "metadata": {
        "id": "acIYD1ql8vJV"
      }
    },
    {
      "cell_type": "code",
      "source": [
        "tupple=(1,2,3,4,5,6)\n",
        "tupple"
      ],
      "metadata": {
        "colab": {
          "base_uri": "https://localhost:8080/"
        },
        "id": "KioeBuqH6Z9T",
        "outputId": "5523558c-5b57-4da7-b7be-501db957a1e3"
      },
      "execution_count": null,
      "outputs": [
        {
          "output_type": "execute_result",
          "data": {
            "text/plain": [
              "(1, 2, 3, 4, 5, 6)"
            ]
          },
          "metadata": {},
          "execution_count": 21
        }
      ]
    },
    {
      "cell_type": "code",
      "source": [
        "tupple[2]"
      ],
      "metadata": {
        "colab": {
          "base_uri": "https://localhost:8080/"
        },
        "id": "ZiDp9FpEOTDt",
        "outputId": "678fa876-3b44-4065-dcae-fac14564349a"
      },
      "execution_count": null,
      "outputs": [
        {
          "output_type": "execute_result",
          "data": {
            "text/plain": [
              "3"
            ]
          },
          "metadata": {},
          "execution_count": 22
        }
      ]
    },
    {
      "cell_type": "code",
      "source": [
        "tupple[5]=7\n",
        "tupple"
      ],
      "metadata": {
        "colab": {
          "base_uri": "https://localhost:8080/",
          "height": 158
        },
        "id": "rQSWrWwyPpyZ",
        "outputId": "4af4e9bd-5f2e-4258-d28b-8958da739fa3"
      },
      "execution_count": null,
      "outputs": [
        {
          "output_type": "error",
          "ename": "TypeError",
          "evalue": "'tuple' object does not support item assignment",
          "traceback": [
            "\u001b[0;31m---------------------------------------------------------------------------\u001b[0m",
            "\u001b[0;31mTypeError\u001b[0m                                 Traceback (most recent call last)",
            "\u001b[0;32m<ipython-input-26-d15284094002>\u001b[0m in \u001b[0;36m<cell line: 1>\u001b[0;34m()\u001b[0m\n\u001b[0;32m----> 1\u001b[0;31m \u001b[0mtupple\u001b[0m\u001b[0;34m[\u001b[0m\u001b[0;36m5\u001b[0m\u001b[0;34m]\u001b[0m\u001b[0;34m=\u001b[0m\u001b[0;36m7\u001b[0m\u001b[0;34m\u001b[0m\u001b[0;34m\u001b[0m\u001b[0m\n\u001b[0m\u001b[1;32m      2\u001b[0m \u001b[0mtupple\u001b[0m\u001b[0;34m\u001b[0m\u001b[0;34m\u001b[0m\u001b[0m\n",
            "\u001b[0;31mTypeError\u001b[0m: 'tuple' object does not support item assignment"
          ]
        }
      ]
    },
    {
      "cell_type": "code",
      "source": [
        "tupple.append(7)"
      ],
      "metadata": {
        "colab": {
          "base_uri": "https://localhost:8080/",
          "height": 141
        },
        "id": "afmlUbeAVqko",
        "outputId": "e9f7cfef-90ba-4303-a4f1-3ae4b4b6eb89"
      },
      "execution_count": null,
      "outputs": [
        {
          "output_type": "error",
          "ename": "AttributeError",
          "evalue": "'tuple' object has no attribute 'append'",
          "traceback": [
            "\u001b[0;31m---------------------------------------------------------------------------\u001b[0m",
            "\u001b[0;31mAttributeError\u001b[0m                            Traceback (most recent call last)",
            "\u001b[0;32m<ipython-input-27-dbd7c7bdda2b>\u001b[0m in \u001b[0;36m<cell line: 1>\u001b[0;34m()\u001b[0m\n\u001b[0;32m----> 1\u001b[0;31m \u001b[0mtupple\u001b[0m\u001b[0;34m.\u001b[0m\u001b[0mappend\u001b[0m\u001b[0;34m(\u001b[0m\u001b[0;36m7\u001b[0m\u001b[0;34m)\u001b[0m\u001b[0;34m\u001b[0m\u001b[0;34m\u001b[0m\u001b[0m\n\u001b[0m",
            "\u001b[0;31mAttributeError\u001b[0m: 'tuple' object has no attribute 'append'"
          ]
        }
      ]
    },
    {
      "cell_type": "code",
      "source": [
        "len(tupple)"
      ],
      "metadata": {
        "colab": {
          "base_uri": "https://localhost:8080/"
        },
        "id": "v15YB-O7Plpd",
        "outputId": "5037c1ce-fbdb-4532-804a-192677b35077"
      },
      "execution_count": null,
      "outputs": [
        {
          "output_type": "execute_result",
          "data": {
            "text/plain": [
              "6"
            ]
          },
          "metadata": {},
          "execution_count": 24
        }
      ]
    },
    {
      "cell_type": "code",
      "source": [
        "tupple[-1]"
      ],
      "metadata": {
        "colab": {
          "base_uri": "https://localhost:8080/"
        },
        "id": "rU438H8cPijf",
        "outputId": "c9c21976-1799-4aa8-adb1-d4ef9e8952f7"
      },
      "execution_count": null,
      "outputs": [
        {
          "output_type": "execute_result",
          "data": {
            "text/plain": [
              "6"
            ]
          },
          "metadata": {},
          "execution_count": 23
        }
      ]
    },
    {
      "cell_type": "code",
      "source": [
        "t=(1,2,3,2,5,6)\n",
        "t          # double value allowed"
      ],
      "metadata": {
        "colab": {
          "base_uri": "https://localhost:8080/"
        },
        "id": "6K5qM0VuXARP",
        "outputId": "97cf6b36-2b7f-4772-80b4-010cb403830d"
      },
      "execution_count": null,
      "outputs": [
        {
          "output_type": "execute_result",
          "data": {
            "text/plain": [
              "(1, 2, 3, 2, 5, 6)"
            ]
          },
          "metadata": {},
          "execution_count": 35
        }
      ]
    },
    {
      "cell_type": "markdown",
      "source": [
        "In Python, a set is an unordered collection of unique elements. Sets are useful when you need to eliminate duplicate values or check for membership. Here’s an overview of sets in Python:"
      ],
      "metadata": {
        "id": "juDnOoFpWHQU"
      }
    },
    {
      "cell_type": "code",
      "source": [
        "# creatig emty set\n",
        "s=set()\n",
        "type(s)"
      ],
      "metadata": {
        "colab": {
          "base_uri": "https://localhost:8080/"
        },
        "id": "IMKiCcLRV8hN",
        "outputId": "68b8e21c-cc86-415c-88d7-bb459103bf94"
      },
      "execution_count": null,
      "outputs": [
        {
          "output_type": "execute_result",
          "data": {
            "text/plain": [
              "set"
            ]
          },
          "metadata": {},
          "execution_count": 30
        }
      ]
    },
    {
      "cell_type": "code",
      "source": [
        "# set the value add\n",
        "s.add(1)\n",
        "s.add(2)\n",
        "s.add(3)\n",
        "s.add(2)  # set are  not allowed Double value\n",
        "s"
      ],
      "metadata": {
        "colab": {
          "base_uri": "https://localhost:8080/"
        },
        "id": "MaNot81pWllu",
        "outputId": "513e10e5-8c19-428e-90ec-c01b4044cead"
      },
      "execution_count": null,
      "outputs": [
        {
          "output_type": "execute_result",
          "data": {
            "text/plain": [
              "{1, 2, 3}"
            ]
          },
          "metadata": {},
          "execution_count": 33
        }
      ]
    },
    {
      "cell_type": "code",
      "source": [
        "food={\"apple\",\"banana\",\"cherry\"}\n",
        "type(food)"
      ],
      "metadata": {
        "colab": {
          "base_uri": "https://localhost:8080/"
        },
        "id": "w8ZW4EprXeme",
        "outputId": "16df0aaf-e500-4845-f272-10010e041380"
      },
      "execution_count": null,
      "outputs": [
        {
          "output_type": "execute_result",
          "data": {
            "text/plain": [
              "set"
            ]
          },
          "metadata": {},
          "execution_count": 39
        }
      ]
    },
    {
      "cell_type": "code",
      "source": [
        "food.add(\"orange\")\n",
        "food"
      ],
      "metadata": {
        "colab": {
          "base_uri": "https://localhost:8080/"
        },
        "id": "o_9sSGjLXujb",
        "outputId": "435f14d4-1245-4391-faf1-30390639b11d"
      },
      "execution_count": null,
      "outputs": [
        {
          "output_type": "execute_result",
          "data": {
            "text/plain": [
              "{'apple', 'banana', 'cherry', 'orange'}"
            ]
          },
          "metadata": {},
          "execution_count": 40
        }
      ]
    },
    {
      "cell_type": "code",
      "source": [
        "food.append(\"tomato\") # not append"
      ],
      "metadata": {
        "colab": {
          "base_uri": "https://localhost:8080/",
          "height": 141
        },
        "id": "WuJ0djGRX0zb",
        "outputId": "b874dc92-30e5-4476-87ec-f160815c1a37"
      },
      "execution_count": null,
      "outputs": [
        {
          "output_type": "error",
          "ename": "AttributeError",
          "evalue": "'set' object has no attribute 'append'",
          "traceback": [
            "\u001b[0;31m---------------------------------------------------------------------------\u001b[0m",
            "\u001b[0;31mAttributeError\u001b[0m                            Traceback (most recent call last)",
            "\u001b[0;32m<ipython-input-41-03daea4262ed>\u001b[0m in \u001b[0;36m<cell line: 1>\u001b[0;34m()\u001b[0m\n\u001b[0;32m----> 1\u001b[0;31m \u001b[0mfood\u001b[0m\u001b[0;34m.\u001b[0m\u001b[0mappend\u001b[0m\u001b[0;34m(\u001b[0m\u001b[0;34m\"tomato\"\u001b[0m\u001b[0;34m)\u001b[0m\u001b[0;34m\u001b[0m\u001b[0;34m\u001b[0m\u001b[0m\n\u001b[0m",
            "\u001b[0;31mAttributeError\u001b[0m: 'set' object has no attribute 'append'"
          ]
        }
      ]
    },
    {
      "cell_type": "code",
      "source": [
        "food.remove(\"apple\")\n",
        "food"
      ],
      "metadata": {
        "colab": {
          "base_uri": "https://localhost:8080/"
        },
        "id": "YPvZSsViX-Gm",
        "outputId": "def4b660-6dd5-477b-e441-8ed800d7a505"
      },
      "execution_count": null,
      "outputs": [
        {
          "output_type": "execute_result",
          "data": {
            "text/plain": [
              "{'banana', 'cherry', 'orange'}"
            ]
          },
          "metadata": {},
          "execution_count": 42
        }
      ]
    },
    {
      "cell_type": "code",
      "source": [
        "food[1]=\"mango\"\n",
        "food"
      ],
      "metadata": {
        "colab": {
          "base_uri": "https://localhost:8080/",
          "height": 158
        },
        "id": "3gMan0D0YGgl",
        "outputId": "f9741cfd-463f-43d6-af1d-3ec77c289563"
      },
      "execution_count": null,
      "outputs": [
        {
          "output_type": "error",
          "ename": "TypeError",
          "evalue": "'set' object does not support item assignment",
          "traceback": [
            "\u001b[0;31m---------------------------------------------------------------------------\u001b[0m",
            "\u001b[0;31mTypeError\u001b[0m                                 Traceback (most recent call last)",
            "\u001b[0;32m<ipython-input-43-27d291b343f9>\u001b[0m in \u001b[0;36m<cell line: 1>\u001b[0;34m()\u001b[0m\n\u001b[0;32m----> 1\u001b[0;31m \u001b[0mfood\u001b[0m\u001b[0;34m[\u001b[0m\u001b[0;36m1\u001b[0m\u001b[0;34m]\u001b[0m\u001b[0;34m=\u001b[0m\u001b[0;34m\"mango\"\u001b[0m\u001b[0;34m\u001b[0m\u001b[0;34m\u001b[0m\u001b[0m\n\u001b[0m\u001b[1;32m      2\u001b[0m \u001b[0mfood\u001b[0m\u001b[0;34m\u001b[0m\u001b[0;34m\u001b[0m\u001b[0m\n",
            "\u001b[0;31mTypeError\u001b[0m: 'set' object does not support item assignment"
          ]
        }
      ]
    },
    {
      "cell_type": "code",
      "source": [
        "for x in food:\n",
        "  print(x)\n"
      ],
      "metadata": {
        "colab": {
          "base_uri": "https://localhost:8080/"
        },
        "id": "g0BaXdRfYQjh",
        "outputId": "03b6bd7f-cb35-44ee-8109-d6910ef4f7e3"
      },
      "execution_count": null,
      "outputs": [
        {
          "output_type": "stream",
          "name": "stdout",
          "text": [
            "cherry\n",
            "orange\n",
            "banana\n"
          ]
        }
      ]
    },
    {
      "cell_type": "code",
      "source": [
        "food.discard(\"orange\")\n",
        "food"
      ],
      "metadata": {
        "colab": {
          "base_uri": "https://localhost:8080/"
        },
        "id": "g8GIxfPVYwpq",
        "outputId": "27cf46c6-71f5-4a66-f41b-daca223f4cdf"
      },
      "execution_count": null,
      "outputs": [
        {
          "output_type": "execute_result",
          "data": {
            "text/plain": [
              "{'banana', 'cherry'}"
            ]
          },
          "metadata": {},
          "execution_count": 46
        }
      ]
    },
    {
      "cell_type": "markdown",
      "source": [
        "## **Set Operations**\n",
        "- *Union:* Combine elements from both sets using | or union().\n",
        "- *Intersection:* Find common elements using & or intersection().\n",
        "- *Difference:* Find elements in one set but not the other using - or difference().\n",
        "- *Symmetric Difference:* Find elements in either set but not in both using ^ or symmetric_difference()"
      ],
      "metadata": {
        "id": "_MOzSIDIZIMn"
      }
    },
    {
      "cell_type": "code",
      "source": [
        "x={1,4,5,6,7}\n",
        "y={2,3,4,5,6}\n",
        "x|y  # union"
      ],
      "metadata": {
        "colab": {
          "base_uri": "https://localhost:8080/"
        },
        "id": "K86LkQUeZHFa",
        "outputId": "2bedf5f9-441a-4bf4-c3d4-9fd940c18062"
      },
      "execution_count": null,
      "outputs": [
        {
          "output_type": "execute_result",
          "data": {
            "text/plain": [
              "{1, 2, 3, 4, 5, 6, 7}"
            ]
          },
          "metadata": {},
          "execution_count": 47
        }
      ]
    },
    {
      "cell_type": "code",
      "source": [
        "x&y  # intersection"
      ],
      "metadata": {
        "colab": {
          "base_uri": "https://localhost:8080/"
        },
        "id": "f0sl9Td3Zn1u",
        "outputId": "2b986add-117c-4279-b6fc-520c46e87129"
      },
      "execution_count": null,
      "outputs": [
        {
          "output_type": "execute_result",
          "data": {
            "text/plain": [
              "{4, 5, 6}"
            ]
          },
          "metadata": {},
          "execution_count": 48
        }
      ]
    },
    {
      "cell_type": "code",
      "source": [
        "x-y  # difference"
      ],
      "metadata": {
        "colab": {
          "base_uri": "https://localhost:8080/"
        },
        "id": "qMwI6vykZrD5",
        "outputId": "0cb9ffd1-cb6f-4239-89e4-f69b3ef83922"
      },
      "execution_count": null,
      "outputs": [
        {
          "output_type": "execute_result",
          "data": {
            "text/plain": [
              "{1, 7}"
            ]
          },
          "metadata": {},
          "execution_count": 49
        }
      ]
    },
    {
      "cell_type": "code",
      "source": [
        "y-x"
      ],
      "metadata": {
        "colab": {
          "base_uri": "https://localhost:8080/"
        },
        "id": "FAH_kgzcZ5ge",
        "outputId": "9f7cab50-19ea-4f57-c945-12443d1c46c0"
      },
      "execution_count": null,
      "outputs": [
        {
          "output_type": "execute_result",
          "data": {
            "text/plain": [
              "{2, 3}"
            ]
          },
          "metadata": {},
          "execution_count": 52
        }
      ]
    },
    {
      "cell_type": "code",
      "source": [
        "y^x  # symmetric difference"
      ],
      "metadata": {
        "colab": {
          "base_uri": "https://localhost:8080/"
        },
        "id": "BxQMzgQaZxeX",
        "outputId": "d8c046bb-e4fb-42b1-a2c6-7bcf7843e806"
      },
      "execution_count": null,
      "outputs": [
        {
          "output_type": "execute_result",
          "data": {
            "text/plain": [
              "{1, 2, 3, 7}"
            ]
          },
          "metadata": {},
          "execution_count": 51
        }
      ]
    },
    {
      "cell_type": "code",
      "source": [
        "fruits = {\"apple\", \"banana\", \"cherry\"}\n",
        "\n",
        "# Check membership\n",
        "print(\"apple\" in fruits)  # Output: True\n",
        "\n",
        "# Length of the set\n",
        "print(len(fruits))  # Output: 3\n",
        "\n",
        "# Copying the set\n",
        "fruits_copy = fruits.copy()\n",
        "print(fruits_copy)  # Output: {'apple', 'banana', 'cherry'}\n",
        "\n",
        "# Clearing the set\n",
        "fruits.clear()\n",
        "print(fruits)  # Output: set()\n"
      ],
      "metadata": {
        "colab": {
          "base_uri": "https://localhost:8080/"
        },
        "id": "WMn-x0JCZ8TI",
        "outputId": "3468dc80-4ecc-457c-f4b4-702c7c7cad52"
      },
      "execution_count": null,
      "outputs": [
        {
          "output_type": "stream",
          "name": "stdout",
          "text": [
            "True\n",
            "3\n",
            "{'cherry', 'banana', 'apple'}\n",
            "set()\n"
          ]
        }
      ]
    },
    {
      "cell_type": "code",
      "source": [
        "frozen_set = frozenset([1, 2, 3, 4])\n",
        "print(frozen_set)  # Output: frozenset({1, 2, 3, 4})\n",
        "\n",
        "# Trying to add or remove elements will raise an AttributeError\n",
        "# frozen_set.add(5)  # Raises AttributeError\n"
      ],
      "metadata": {
        "colab": {
          "base_uri": "https://localhost:8080/"
        },
        "id": "6UIJQadvaGik",
        "outputId": "8216830b-3f14-435b-8987-6e3724d9c421"
      },
      "execution_count": null,
      "outputs": [
        {
          "output_type": "stream",
          "name": "stdout",
          "text": [
            "frozenset({1, 2, 3, 4})\n"
          ]
        }
      ]
    },
    {
      "cell_type": "code",
      "source": [
        "# Removing duplicates from a list using a set\n",
        "numbers = [1, 2, 3, 4, 5, 3, 2, 1]\n",
        "unique_numbers = set(numbers)\n",
        "print(unique_numbers)  # Output: {1, 2, 3, 4, 5}\n"
      ],
      "metadata": {
        "colab": {
          "base_uri": "https://localhost:8080/"
        },
        "id": "y_qE-0K7aPKQ",
        "outputId": "ce8c1a70-07ac-46ff-80a3-858368767f2b"
      },
      "execution_count": null,
      "outputs": [
        {
          "output_type": "stream",
          "name": "stdout",
          "text": [
            "{1, 2, 3, 4, 5}\n"
          ]
        }
      ]
    },
    {
      "cell_type": "markdown",
      "source": [
        "# Dictionary\n",
        "\n",
        "In Python, a dictionary is a collection of key-value pairs. It is an unordered, mutable, and indexed data structure. Here’s an overview of dictionaries in Python:\n",
        "\n",
        "- **Creating Dictionaries:**\n",
        "<br>\n",
        "You can create dictionaries using *curly braces* {} with key-value pairs, or the *dict()* function."
      ],
      "metadata": {
        "id": "71jyWOuRbvAL"
      }
    },
    {
      "cell_type": "code",
      "source": [
        "# Create Emty Dictionary\n",
        "dic={}\n",
        "print(dic)\n",
        "type(dic)"
      ],
      "metadata": {
        "colab": {
          "base_uri": "https://localhost:8080/"
        },
        "id": "Rz4iGob2buJt",
        "outputId": "25e3e269-c4eb-4981-df40-a1dacbc6a8f6"
      },
      "execution_count": null,
      "outputs": [
        {
          "output_type": "stream",
          "name": "stdout",
          "text": [
            "{}\n"
          ]
        },
        {
          "output_type": "execute_result",
          "data": {
            "text/plain": [
              "dict"
            ]
          },
          "metadata": {},
          "execution_count": 58
        }
      ]
    },
    {
      "cell_type": "code",
      "source": [
        "person={\n",
        "    \"Name\":\"Roksana\",\n",
        "    \"Age\":25,\n",
        "    \"Country\":\"India\"\n",
        "}\n",
        "print(person)\n",
        "type(person)\n"
      ],
      "metadata": {
        "colab": {
          "base_uri": "https://localhost:8080/"
        },
        "id": "fNenQYDvcb3J",
        "outputId": "54501cc7-d069-448a-a787-16880e20a695"
      },
      "execution_count": null,
      "outputs": [
        {
          "output_type": "stream",
          "name": "stdout",
          "text": [
            "{'Name': 'Roksana', 'Age': 25, 'Country': 'India'}\n"
          ]
        },
        {
          "output_type": "execute_result",
          "data": {
            "text/plain": [
              "dict"
            ]
          },
          "metadata": {},
          "execution_count": 59
        }
      ]
    },
    {
      "cell_type": "code",
      "source": [
        "# Using the dict() function\n",
        "person2 = dict([(\"name\",\"Bob\"), (\"age\",30), (\"city\",\"San Francisco\")])\n",
        "print(person2)"
      ],
      "metadata": {
        "colab": {
          "base_uri": "https://localhost:8080/"
        },
        "id": "5V5MdQBycs55",
        "outputId": "06b831b9-514d-493b-b653-7eaf29823bf0"
      },
      "execution_count": null,
      "outputs": [
        {
          "output_type": "stream",
          "name": "stdout",
          "text": [
            "{'name': 'Bob', 'age': 30, 'city': 'San Francisco'}\n"
          ]
        }
      ]
    },
    {
      "cell_type": "code",
      "source": [
        "person2[\"name\"]"
      ],
      "metadata": {
        "colab": {
          "base_uri": "https://localhost:8080/",
          "height": 36
        },
        "id": "CUbxZBDW3pxy",
        "outputId": "15f3c3cc-4462-4074-c296-be7a6c3deb20"
      },
      "execution_count": null,
      "outputs": [
        {
          "output_type": "execute_result",
          "data": {
            "text/plain": [
              "'Bob'"
            ],
            "application/vnd.google.colaboratory.intrinsic+json": {
              "type": "string"
            }
          },
          "metadata": {},
          "execution_count": 2
        }
      ]
    },
    {
      "cell_type": "code",
      "source": [
        "person2[\"age\"]"
      ],
      "metadata": {
        "colab": {
          "base_uri": "https://localhost:8080/"
        },
        "id": "A-Tpkn0230mS",
        "outputId": "fd8bf4b7-2d2f-4016-a60f-91f794d8cc62"
      },
      "execution_count": null,
      "outputs": [
        {
          "output_type": "execute_result",
          "data": {
            "text/plain": [
              "30"
            ]
          },
          "metadata": {},
          "execution_count": 3
        }
      ]
    },
    {
      "cell_type": "code",
      "source": [
        "person2[\"Phone\"]=\"01304478846\""
      ],
      "metadata": {
        "id": "FSluBUk734NV"
      },
      "execution_count": null,
      "outputs": []
    },
    {
      "cell_type": "code",
      "source": [
        "person2"
      ],
      "metadata": {
        "colab": {
          "base_uri": "https://localhost:8080/"
        },
        "id": "OC4BPypn4RIq",
        "outputId": "1c6cec77-64dc-4b4c-a1d0-701430a010fb"
      },
      "execution_count": null,
      "outputs": [
        {
          "output_type": "execute_result",
          "data": {
            "text/plain": [
              "{'name': 'Bob', 'Phone': '01304478846'}"
            ]
          },
          "metadata": {},
          "execution_count": 13
        }
      ]
    },
    {
      "cell_type": "code",
      "source": [
        "person = {\n",
        "    \"name\": \"Alice\",\n",
        "    \"age\": 25,\n",
        "    \"city\": \"New York\"\n",
        "}\n",
        "\n",
        "# Iterating through keys\n",
        "for key in person:\n",
        "    print(key)  # Output: name, age, city\n",
        "\n",
        "# Iterating through values\n",
        "for value in person.values():\n",
        "    print(value)  # Output: Alice, 25, New York\n",
        "\n",
        "# Iterating through key-value pairs\n",
        "for key, value in person.items():\n",
        "    print(f\"{key}: {value}\")\n",
        "    # Output:\n",
        "    # name: Alice\n",
        "    # age: 25\n",
        "    # city: New York\n"
      ],
      "metadata": {
        "colab": {
          "base_uri": "https://localhost:8080/"
        },
        "id": "Nx61AGnz5gpb",
        "outputId": "2c5ea0bd-d1ca-460c-d6b7-228a92eb61c8"
      },
      "execution_count": null,
      "outputs": [
        {
          "output_type": "stream",
          "name": "stdout",
          "text": [
            "name\n",
            "age\n",
            "city\n",
            "Alice\n",
            "25\n",
            "New York\n",
            "name: Alice\n",
            "age: 25\n",
            "city: New York\n"
          ]
        }
      ]
    },
    {
      "cell_type": "code",
      "source": [
        "# counting Dictionary in  list to dictionary\n",
        "\n",
        "fruits=[\"apple\",\"banana\",\"apple\",\"banana\",\"cherry\",\"apple\",\"banana\",\"cherry\",\"apple\",\"banana\",\"cherry\",\"apple\",\"banana\"]\n",
        "fruits.count(\"apple\")\n",
        "Fruits_item ={}\n",
        "for x in fruits:\n",
        "  if x in Fruits_item:\n",
        "    Fruits_item[x]+=1\n",
        "  else:\n",
        "    Fruits_item[x]=1\n",
        "print(Fruits_item)"
      ],
      "metadata": {
        "colab": {
          "base_uri": "https://localhost:8080/"
        },
        "id": "5dSY033jZyvt",
        "outputId": "7e3b35ae-0664-40b4-c3c2-0622deb078d9"
      },
      "execution_count": 5,
      "outputs": [
        {
          "output_type": "stream",
          "name": "stdout",
          "text": [
            "{'apple': 5, 'banana': 5, 'cherry': 3}\n"
          ]
        }
      ]
    },
    {
      "cell_type": "code",
      "source": [],
      "metadata": {
        "id": "x4O5sNWqamXn"
      },
      "execution_count": null,
      "outputs": []
    }
  ]
}